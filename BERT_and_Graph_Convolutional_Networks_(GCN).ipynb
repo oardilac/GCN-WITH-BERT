{
  "nbformat": 4,
  "nbformat_minor": 0,
  "metadata": {
    "colab": {
      "provenance": []
    },
    "kernelspec": {
      "name": "python3",
      "display_name": "Python 3"
    },
    "language_info": {
      "name": "python"
    }
  },
  "cells": [
    {
      "cell_type": "markdown",
      "source": [
        "**<h1> Here is a general outline of how you can implement the project using BERT and Graph Convolutional Networks (GCN):**\n",
        "\n",
        "<h3>1. First, you will need to preprocess your data by converting the Shakespeare books into a suitable format for training a GCN. This will involve constructing a graph representation of the books, with the words or phrases as nodes and the relationships between them as edges. You can do this by using techniques like dependency parsing to extract syntactic relationships between words, or by simply considering the co-occurrence of words within a fixed window size.\n",
        "\n",
        "<h3>2. Next, you can use BERT to generate embeddings for the nodes in your graph. BERT is a transformer-based language model that has been trained on a large corpus of text, and can generate highly contextualized word embeddings. You can use BERT to generate embeddings for each of the words or phrases in your graph, and use these embeddings as input to the GCN.\n",
        "\n",
        "<h3>3. Once you have the input data for your GCN, you can then use a library like PyTorch Geometric or DGL to implement the GCN itself. These libraries provide implementations of various GCN architectures, and allow you to easily build and train your model.\n",
        "\n",
        "<h3>4. To train the GCN, you will need to split your data into training and validation sets, and use the training set to update the model's parameters. You can then use the validation set to evaluate the model's performance, and adjust the training process as necessary.\n",
        "\n",
        "<h3>5. Finally, you can use the trained GCN to make predictions on the test set of books, and save the prediction statistics (preferably with graphs to visualize) for further analysis."
      ],
      "metadata": {
        "id": "q6JVW_gSuIYp"
      }
    },
    {
      "cell_type": "markdown",
      "source": [
        "**<h2> 1. Gather the original Shakespeare books:**"
      ],
      "metadata": {
        "id": "QPN3BW_5uLiQ"
      }
    },
    {
      "cell_type": "code",
      "execution_count": null,
      "metadata": {
        "id": "vbtP5LqCuD2i"
      },
      "outputs": [],
      "source": [
        "import requests\n",
        "from bs4 import BeautifulSoup\n",
        "\n",
        "def extract_links(html):\n",
        "    soup = BeautifulSoup(html, 'html.parser')\n",
        "    links = []\n",
        "    for link in soup.find_all('a'):\n",
        "        href = link.get('href')\n",
        "        if href.startswith('/ebooks/'):\n",
        "            links.append(f'https://www.gutenberg.org{href}')\n",
        "    return links\n",
        "\n",
        "\n",
        "# Gather original Shakespeare books\n",
        "url = 'https://www.gutenberg.org/ebooks/author/65'\n",
        "response = requests.get(url)\n",
        "\n",
        "# Save the HTML content to a file\n",
        "with open('shakespeare.html', 'w') as f:\n",
        "    f.write(response.text)\n",
        "\n",
        "# Extract the links to the books from the HTML file\n",
        "# (This will depend on the specific structure of the HTML file)\n",
        "with open('shakespeare.html', 'r') as f:\n",
        "    html = f.read()\n",
        "    original_links = extract_links(html)\n",
        "\n",
        "# Download the books and save them to files\n",
        "for i, link in enumerate(original_links):\n",
        "    book = requests.get(link)\n",
        "    with open(f'shakespeare_{i}.txt', 'w') as f:\n",
        "        f.write(book.text)\n"
      ]
    },
    {
      "cell_type": "markdown",
      "source": [
        "**<h2> 2. Preprocess the books:**"
      ],
      "metadata": {
        "id": "poXuC-VJuT5M"
      }
    },
    {
      "cell_type": "code",
      "source": [
        "# Set the directory containing the books\n",
        "book_dir = '.'\n",
        "\n",
        "# Get the names of all the files in the directory\n",
        "filenames = os.listdir(book_dir)\n",
        "\n",
        "# Load the texts of the books\n",
        "books = []\n",
        "for filename in filenames:\n",
        "    filepath = os.path.join(book_dir, filename)\n",
        "    if os.path.isfile(filepath) and filepath.endswith('.txt'):  # skip directories and non-txt files\n",
        "        with open(filepath, 'r') as f:\n",
        "            book = f.read()\n",
        "        books.append(book)\n",
        "\n",
        "# Preprocess the texts of the books\n",
        "X = []\n",
        "for book in books:\n",
        "    tokens = tokenizer.tokenize(book)\n",
        "    ids = tokenizer.convert_tokens_to_ids(tokens)\n",
        "    tensor = torch.tensor(ids).unsqueeze(0)  # add a batch dimension\n",
        "    X.append(tensor)\n",
        "\n"
      ],
      "metadata": {
        "id": "QX4ez1ppuYHa"
      },
      "execution_count": null,
      "outputs": []
    },
    {
      "cell_type": "markdown",
      "source": [
        "**<h2> 3. Create graphs for the books:**"
      ],
      "metadata": {
        "id": "TnVU7PK8uc8o"
      }
    },
    {
      "cell_type": "code",
      "source": [
        "# Load the spaCy model for parsing text\n",
        "nlp = spacy.load('en_core_web_md')\n",
        "\n",
        "def create_graph(text):\n",
        "    # Parse the text with spaCy\n",
        "    doc = nlp(text)\n",
        "\n",
        "    # Extract the dependencies between the tokens\n",
        "    edges = []\n",
        "    for token in doc:\n",
        "        for child in token.children:\n",
        "            edges.append((token.i, child.i))\n",
        "\n",
        "    # Create a graph from the dependencies\n",
        "    graph = nx.Graph(edges)\n",
        "    return graph\n",
        "\n",
        "# Create a graph for each book\n",
        "graphs = []\n",
        "for book in books:\n",
        "    graph = create_graph(book)\n",
        "    graphs.append(graph)\n"
      ],
      "metadata": {
        "id": "W3XFSkpQufe4"
      },
      "execution_count": null,
      "outputs": []
    },
    {
      "cell_type": "markdown",
      "source": [
        "**<h2> 4. Train the model:**"
      ],
      "metadata": {
        "id": "rkyVnWvQugCM"
      }
    },
    {
      "cell_type": "code",
      "source": [
        "import spacy\n",
        "import networkx as nx\n",
        "from itertools import combinations\n",
        "import matplotlib.pyplot as plt\n",
        "\n",
        "nlp = spacy.load('en_core_web_md')\n",
        "\n",
        "def create_graph(book):\n",
        "    # Use the nlp object to process the book text\n",
        "    doc = nlp(book)\n",
        "    \n",
        "    # Initialize an empty graph\n",
        "    graph = nx.Graph()\n",
        "    \n",
        "    # Iterate through the named entities in the book\n",
        "    for ent in doc.ents:\n",
        "        # Add the entity to the graph\n",
        "        graph.add_node(ent.text)\n",
        "        \n",
        "    # Iterate through the pairs of named entities in the book\n",
        "    for ent1, ent2 in combinations(doc.ents, 2):\n",
        "        # Check if the entities are related\n",
        "        if ent1.similarity(ent2) > 0.5:\n",
        "            # Add an edge between the entities to the graph\n",
        "            graph.add_edge(ent1.text, ent2.text)\n",
        "    \n",
        "    return graph\n",
        "\n",
        "# Create a graph for each book\n",
        "graphs = []\n",
        "for book in books:\n",
        "    graph = create_graph(book)\n",
        "    if len(graph) > 0:  # only add non-empty graphs\n",
        "        graphs.append(graph)\n",
        "\n",
        "# Split the graphs into train and test sets\n",
        "train_size = int(0.8 * len(graphs))\n",
        "test_size = len(graphs) - train_size\n",
        "train_graphs, test_graphs = graphs[:train_size], graphs[train_size:]\n",
        "\n",
        "# Visualize one of the graphs\n",
        "nx.draw(train_graphs[0])\n",
        "plt.show()\n",
        "\n"
      ],
      "metadata": {
        "colab": {
          "base_uri": "https://localhost:8080/",
          "height": 354
        },
        "id": "Ioa9-PKEjLJr",
        "outputId": "357c2126-bffb-4669-d6b6-7c3b0b86fa5f"
      },
      "execution_count": 70,
      "outputs": [
        {
          "output_type": "stream",
          "name": "stderr",
          "text": [
            "<ipython-input-70-4c5574b1d6dd>:23: UserWarning: [W008] Evaluating Span.similarity based on empty vectors.\n",
            "  if ent1.similarity(ent2) > 0.5:\n"
          ]
        },
        {
          "output_type": "display_data",
          "data": {
            "text/plain": [
              "<Figure size 432x288 with 1 Axes>"
            ],
            "image/png": "[encoded data removed]"
          },
          "metadata": {}
        }
      ]
    },
    {
      "cell_type": "markdown",
      "source": [
        "**<h2> 5. Evaluating the Model's Performance**"
      ],
      "metadata": {
        "id": "d9RQoDN3uh3i"
      }
    },
    {
      "cell_type": "code",
      "source": [
        "import matplotlib.pyplot as plt\n",
        "\n",
        "# Set the device\n",
        "device = torch.device('cuda' if torch.cuda.is_available() else 'cpu')\n",
        "\n",
        "# Initialize an empty list to store the training loss at each epoch\n",
        "train_losses = []\n",
        "\n",
        "# Train the model\n",
        "for epoch in range(num_epochs):\n",
        "    # Shuffle the training data at the beginning of each epoch\n",
        "    shuffle_indices = torch.randperm(train_size)\n",
        "    train_X = [train_X[i] for i in shuffle_indices]\n",
        "    train_graphs = [train_graphs[i] for i in shuffle_indices]\n",
        "    train_labels = [train_labels[i] for i in shuffle_indices]\n",
        "\n",
        "    # Loop through the training data in batches\n",
        "    for i, (x, graph, label) in enumerate(zip(train_X, train_graphs, train_labels)):\n",
        "\n",
        "        # Set the gradients to zero\n",
        "        optimizer.zero_grad()\n",
        "\n",
        "    \n",
        "        # Backward pass\n",
        "        optimizer.step()\n",
        "    \n",
        "  \n",
        "# Plot the training loss\n",
        "plt.plot(train_losses)\n",
        "plt.xlabel(\"Epoch\")\n",
        "plt.ylabel(\"Loss\")\n",
        "plt.title(\"Training Loss vs. Epoch\")\n",
        "plt.show()\n"
      ],
      "metadata": {
        "id": "isap6mrVujmx",
        "colab": {
          "base_uri": "https://localhost:8080/",
          "height": 295
        },
        "outputId": "2e37f138-41b1-4ba9-d565-57e439e0a757"
      },
      "execution_count": 90,
      "outputs": [
        {
          "output_type": "display_data",
          "data": {
            "text/plain": [
              "<Figure size 432x288 with 1 Axes>"
            ],
            "image/png": "[encoded data removed]"
          },
          "metadata": {
            "needs_background": "light"
          }
        }
      ]
    }
  ]
}